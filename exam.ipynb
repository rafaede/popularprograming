{
  "nbformat": 4,
  "nbformat_minor": 0,
  "metadata": {
    "colab": {
      "provenance": [],
      "authorship_tag": "ABX9TyOeR8bzvCHDNdLrEKx2rI0D",
      "include_colab_link": true
    },
    "kernelspec": {
      "name": "python3",
      "display_name": "Python 3"
    },
    "language_info": {
      "name": "python"
    }
  },
  "cells": [
    {
      "cell_type": "markdown",
      "metadata": {
        "id": "view-in-github",
        "colab_type": "text"
      },
      "source": [
        "<a href=\"https://colab.research.google.com/github/rafaede/popularprograming/blob/main/exam.ipynb\" target=\"_parent\"><img src=\"https://colab.research.google.com/assets/colab-badge.svg\" alt=\"Open In Colab\"/></a>"
      ]
    },
    {
      "cell_type": "markdown",
      "source": [
        "nomor satu"
      ],
      "metadata": {
        "id": "N1RdJGXGDHIO"
      }
    },
    {
      "cell_type": "code",
      "execution_count": 1,
      "metadata": {
        "colab": {
          "base_uri": "https://localhost:8080/"
        },
        "id": "JEBNbYHn8tSK",
        "outputId": "89012268-d27a-4e69-af0c-ed904d1fd988"
      },
      "outputs": [
        {
          "output_type": "stream",
          "name": "stdout",
          "text": [
            "Looking in indexes: https://pypi.org/simple, https://us-python.pkg.dev/colab-wheels/public/simple/\n",
            "Collecting biopython\n",
            "  Downloading biopython-1.81-cp310-cp310-manylinux_2_17_x86_64.manylinux2014_x86_64.whl (3.1 MB)\n",
            "\u001b[2K     \u001b[90m━━━━━━━━━━━━━━━━━━━━━━━━━━━━━━━━━━━━━━━━\u001b[0m \u001b[32m3.1/3.1 MB\u001b[0m \u001b[31m57.8 MB/s\u001b[0m eta \u001b[36m0:00:00\u001b[0m\n",
            "\u001b[?25hRequirement already satisfied: numpy in /usr/local/lib/python3.10/dist-packages (from biopython) (1.22.4)\n",
            "Installing collected packages: biopython\n",
            "Successfully installed biopython-1.81\n"
          ]
        }
      ],
      "source": [
        "!pip install biopython"
      ]
    },
    {
      "cell_type": "code",
      "source": [
        "from Bio import Entrez\n",
        "\n",
        "Entrez.email = 'learnbiopython@gmail.com'\n",
        "sciNames = ['Bos gaurus']\n",
        "\n",
        "# Spelling correction\n",
        "record = Entrez.read(Entrez.espell(db='pmc', term='biopython'))\n",
        "print(type(record))\n",
        "print(record.keys())\n",
        "for key in record.keys():\n",
        "    print(key, ':', record[key])\n",
        "\n",
        "# Research Collection\n",
        "record = Entrez.read(Entrez.esearch(db='pmc', term='biopython', retmax=100))\n",
        "print(type(record))\n",
        "print(record.keys())\n",
        "biopythonID = record['IdList']\n",
        "print(biopythonID)\n",
        "\n",
        "# Fetch summaries\n",
        "for ID in biopythonID[:10]:\n",
        "    summary = Entrez.read(Entrez.esummary(db='pmc', id=ID))\n",
        "    for handle in summary:\n",
        "        print(handle['Title'], '\\t', handle['FullJournalName'], '\\t', handle['DOI'])"
      ],
      "metadata": {
        "colab": {
          "base_uri": "https://localhost:8080/"
        },
        "id": "IALkDerZEGOq",
        "outputId": "2c380ec0-6c17-49a9-86aa-2103492e8542"
      },
      "execution_count": 13,
      "outputs": [
        {
          "output_type": "stream",
          "name": "stdout",
          "text": [
            "<class 'Bio.Entrez.Parser.DictionaryElement'>\n",
            "dict_keys(['Database', 'Query', 'CorrectedQuery', 'SpelledQuery'])\n",
            "Database : pmc\n",
            "Query : biopython\n",
            "CorrectedQuery : \n",
            "SpelledQuery : []\n",
            "<class 'Bio.Entrez.Parser.DictionaryElement'>\n",
            "dict_keys(['Count', 'RetMax', 'RetStart', 'IdList', 'TranslationSet', 'TranslationStack', 'QueryTranslation'])\n",
            "['10275480', '10267113', '10266766', '10265787', '10258481', '10256225', '10254443', '10254083', '10250245', '10250203', '10245964', '10241889', '10241417', '10238937', '10235069', '10232014', '10227427', '10227399', '10224666', '10221840', '10219788', '10219531', '10215675', '10273728', '10267222', '10265600', '10263305', '10260930', '10258777', '10251718', '10249658', '10246253', '10243083', '10234545', '10227362', '10221105', '10216779', '10204868', '10204111', '10203616', '10201985', '10199479', '10198650', '10198438', '10187174', '10185341', '10169335', '10169329', '10168271', '10159843', '10158992', '10153705', '10153118', '10148868', '10148629', '10145048', '10143361', '10134851', '10131221', '10123101', '10120676', '10105235', '10104372', '10104344', '10100218', '10083194', '10072491', '10070815', '10070360', '10070209', '10066034', '10060750', '10055274', '10055226', '10053088', '10049856', '10049292', '10028922', '10028825', '10028787', '10026720', '10003719', '9992841', '9988707', '9983073', '9977097', '9974263', '9973847', '9973303', '9971809', '9967988', '9958100', '9949269', '9949116', '9948713', '9946446', '9650269', '9943676', '9942591', '9937996']\n",
            "Evolutionary trade-off and mutational bias could favor transcriptional over translational divergence within paralog pairs \t PLOS Genetics \t 10.1371/journal.pgen.1010756\n",
            "A mutation-induced drug resistance database (MdrDB) \t Communications Chemistry \t 10.1038/s42004-023-00920-7\n",
            "Rapid protein stability prediction using deep learning representations \t eLife \t 10.7554/eLife.82593\n",
            "RegCloser: a robust regression approach to closing genome gaps \t BMC Bioinformatics \t 10.1186/s12859-023-05367-0\n",
            "Machine learning optimization of candidate antibody yields highly diverse sub-nanomolar affinity antibody libraries \t Nature Communications \t 10.1038/s41467-023-39022-2\n",
            "CRISPR-Analytics (CRISPR-A): A platform for precise analytics and simulations for gene editing \t PLOS Computational Biology \t 10.1371/journal.pcbi.1011137\n",
            "Insights into the Structural Conformations of the Tau Protein in Different Aggregation Status \t Molecules \t 10.3390/molecules28114544\n",
            "Pathogenicity and Genomic Characterization of a Novel Genospecies, Bacillus shihchuchen, of the Bacillus cereus Group Isolated from Chinese Softshell Turtle (Pelodiscus sinensis) \t International Journal of Molecular Sciences \t 10.3390/ijms24119636\n",
            "GeoBind: segmentation of nucleic acid binding interface on protein surface with geometric deep learning \t Nucleic Acids Research \t 10.1093/nar/gkad288\n",
            "Core defense hotspots within Pseudomonas aeruginosa are a consistent and rich source of anti-phage defense systems \t Nucleic Acids Research \t 10.1093/nar/gkad317\n"
          ]
        }
      ]
    },
    {
      "cell_type": "code",
      "source": [
        "from Bio import Entrez\n",
        "\n",
        "# Examples of Homo sapiens Genes Research in NCBI Nucleotide database\n",
        "# Three examples of Homo sapiens Genes\n",
        "# OCA2: malenosonal transmembrane protein (eye color gene)\n",
        "# idtype \"acc\" means we want to know the Accession Number.\n",
        "\n",
        "record = Entrez.read(Entrez.esearch(db=\"nucleotide\",\n",
        "                                   term=\"OCA2[Gene Name] AND Homo sapiens [Organism] AND refSeq[keyword]\",\n",
        "                                   retmax=100, idtype=\"acc\"))\n",
        "print(record)\n",
        "\n",
        "# Examples of Homo Sapiens Genes efetch in NCBI Nucleotide database for mRNA only in Accession Number means reference RNA\n",
        "# NC In Accession Number means Genomic Data\n",
        "\n",
        "fetchList = []\n",
        "counter = 0\n",
        "for ID in record['IdList']:\n",
        "    if 'fetch' in ID:\n",
        "        fetch = Entrez.efetch(db=\"nucleotide\", id=ID, rettype=\"fasta\", retmode=\"text\")\n",
        "        readFetch = fetch.readline()\n",
        "        print(readFetch)\n",
        "        counter += 1\n",
        "        fetchList.append(readFetch)\n",
        "\n",
        "print(record)\n",
        "print(fetchList)\n",
        "print(len(fetchList))"
      ],
      "metadata": {
        "colab": {
          "base_uri": "https://localhost:8080/"
        },
        "id": "86i-SrnvEJzZ",
        "outputId": "6f7980d8-90ac-4bd2-e642-b01d20b2e3b2"
      },
      "execution_count": 14,
      "outputs": [
        {
          "output_type": "stream",
          "name": "stdout",
          "text": [
            "{'Count': '66', 'RetMax': '66', 'RetStart': '0', 'IdList': ['NG_009846.2', 'NM_001300984.2', 'NM_000275.3', 'XR_008488954.1', 'XM_054378103.1', 'XM_054378102.1', 'XM_054378101.1', 'XM_054378100.1', 'XM_054378099.1', 'XM_054378098.1', 'XM_054378097.1', 'XM_054378096.1', 'XM_054378095.1', 'XM_054378094.1', 'XM_054378093.1', 'XM_054378092.1', 'XM_054378091.1', 'XM_054378090.1', 'XM_054378089.1', 'XM_054378088.1', 'XM_054378087.1', 'XM_054378086.1', 'XM_054378085.1', 'XM_054378084.1', 'XM_054378083.1', 'XM_054378082.1', 'XM_054378081.1', 'XM_054378080.1', 'XM_054378079.1', 'XM_054378078.1', 'XM_054378077.1', 'XM_054378076.1', 'XM_054378075.1', 'XM_054378074.1', 'XR_001751294.2', 'XM_017022265.2', 'XM_047432619.1', 'XM_047432618.1', 'XM_047432617.1', 'XM_047432616.1', 'XM_047432615.1', 'XM_047432614.1', 'XM_017022264.2', 'XM_047432613.1', 'XM_047432612.1', 'XM_017022263.2', 'XM_047432611.1', 'XM_017022262.2', 'XM_017022261.2', 'XM_047432610.1', 'XM_047432609.1', 'XM_047432608.1', 'XM_047432607.1', 'XM_017022260.2', 'XM_017022259.2', 'XM_047432606.1', 'XM_047432605.1', 'XM_017022258.2', 'XM_017022257.2', 'XM_017022256.2', 'XM_011521640.3', 'XM_017022255.2', 'NC_060939.1', 'NW_011332701.1', 'NC_000015.10', 'NT_187660.1'], 'TranslationSet': [{'From': 'Homo sapiens[Organism]', 'To': '\"Homo sapiens\"[Organism]'}], 'TranslationStack': [{'Term': 'OCA2[Gene Name]', 'Field': 'Gene Name', 'Count': '2404', 'Explode': 'N'}, {'Term': '\"Homo sapiens\"[Organism]', 'Field': 'Organism', 'Count': '28452100', 'Explode': 'Y'}, 'AND', {'Term': 'refSeq[keyword]', 'Field': 'keyword', 'Count': '97576098', 'Explode': 'N'}, 'AND'], 'QueryTranslation': 'OCA2[Gene Name] AND \"Homo sapiens\"[Organism] AND refSeq[keyword]'}\n",
            "{'Count': '66', 'RetMax': '66', 'RetStart': '0', 'IdList': ['NG_009846.2', 'NM_001300984.2', 'NM_000275.3', 'XR_008488954.1', 'XM_054378103.1', 'XM_054378102.1', 'XM_054378101.1', 'XM_054378100.1', 'XM_054378099.1', 'XM_054378098.1', 'XM_054378097.1', 'XM_054378096.1', 'XM_054378095.1', 'XM_054378094.1', 'XM_054378093.1', 'XM_054378092.1', 'XM_054378091.1', 'XM_054378090.1', 'XM_054378089.1', 'XM_054378088.1', 'XM_054378087.1', 'XM_054378086.1', 'XM_054378085.1', 'XM_054378084.1', 'XM_054378083.1', 'XM_054378082.1', 'XM_054378081.1', 'XM_054378080.1', 'XM_054378079.1', 'XM_054378078.1', 'XM_054378077.1', 'XM_054378076.1', 'XM_054378075.1', 'XM_054378074.1', 'XR_001751294.2', 'XM_017022265.2', 'XM_047432619.1', 'XM_047432618.1', 'XM_047432617.1', 'XM_047432616.1', 'XM_047432615.1', 'XM_047432614.1', 'XM_017022264.2', 'XM_047432613.1', 'XM_047432612.1', 'XM_017022263.2', 'XM_047432611.1', 'XM_017022262.2', 'XM_017022261.2', 'XM_047432610.1', 'XM_047432609.1', 'XM_047432608.1', 'XM_047432607.1', 'XM_017022260.2', 'XM_017022259.2', 'XM_047432606.1', 'XM_047432605.1', 'XM_017022258.2', 'XM_017022257.2', 'XM_017022256.2', 'XM_011521640.3', 'XM_017022255.2', 'NC_060939.1', 'NW_011332701.1', 'NC_000015.10', 'NT_187660.1'], 'TranslationSet': [{'From': 'Homo sapiens[Organism]', 'To': '\"Homo sapiens\"[Organism]'}], 'TranslationStack': [{'Term': 'OCA2[Gene Name]', 'Field': 'Gene Name', 'Count': '2404', 'Explode': 'N'}, {'Term': '\"Homo sapiens\"[Organism]', 'Field': 'Organism', 'Count': '28452100', 'Explode': 'Y'}, 'AND', {'Term': 'refSeq[keyword]', 'Field': 'keyword', 'Count': '97576098', 'Explode': 'N'}, 'AND'], 'QueryTranslation': 'OCA2[Gene Name] AND \"Homo sapiens\"[Organism] AND refSeq[keyword]'}\n",
            "[]\n",
            "0\n"
          ]
        }
      ]
    },
    {
      "cell_type": "code",
      "source": [
        "from Bio import SeqIO\n",
        "from Bio.Seq import Seq\n",
        "from Bio.SeqRecord import SeqRecord"
      ],
      "metadata": {
        "id": "msvmgdh4-E4F"
      },
      "execution_count": 15,
      "outputs": []
    },
    {
      "cell_type": "code",
      "source": [
        "sequence = \"MRKDLSPVLEMYLLRVCVQGVAQKPVKALQKLQHSLTAAALYALQKKTAVVAPAAPLAAA\"\n",
        "\n",
        "record = SeqRecord(Seq(sequence), id=\"example_sequence\", description=\"Example Sequence\")\n",
        "SeqIO.write(record, \"sequence.fasta\", \"fasta\")"
      ],
      "metadata": {
        "colab": {
          "base_uri": "https://localhost:8080/"
        },
        "id": "KelNdvSM-Gv7",
        "outputId": "6bac203e-7336-4139-92e2-09195430568c"
      },
      "execution_count": 16,
      "outputs": [
        {
          "output_type": "execute_result",
          "data": {
            "text/plain": [
              "1"
            ]
          },
          "metadata": {},
          "execution_count": 16
        }
      ]
    },
    {
      "cell_type": "code",
      "source": [
        "# Load and print a FASTA file format\n",
        "for record in SeqIO.parse(\"sequence.fasta\", \"fasta\"):\n",
        "    print(record.id)\n",
        "    print(record.description)"
      ],
      "metadata": {
        "colab": {
          "base_uri": "https://localhost:8080/"
        },
        "id": "rq4hRK3t-Gtb",
        "outputId": "fc62981d-82cd-48bb-d128-e19251b34bd4"
      },
      "execution_count": 17,
      "outputs": [
        {
          "output_type": "stream",
          "name": "stdout",
          "text": [
            "example_sequence\n",
            "example_sequence Example Sequence\n"
          ]
        }
      ]
    },
    {
      "cell_type": "code",
      "source": [
        "for record in SeqIO.parse(\"sequence.fasta\", \"fasta\"):\n",
        "    print(record)"
      ],
      "metadata": {
        "colab": {
          "base_uri": "https://localhost:8080/"
        },
        "id": "MESar8qo-GrF",
        "outputId": "ef300a4c-23fa-40c6-adaa-f4c1a57eb53d"
      },
      "execution_count": 18,
      "outputs": [
        {
          "output_type": "stream",
          "name": "stdout",
          "text": [
            "ID: example_sequence\n",
            "Name: example_sequence\n",
            "Description: example_sequence Example Sequence\n",
            "Number of features: 0\n",
            "Seq('MRKDLSPVLEMYLLRVCVQGVAQKPVKALQKLQHSLTAAALYALQKKTAVVAPAAPLAAA')\n"
          ]
        }
      ]
    },
    {
      "cell_type": "code",
      "source": [
        "# Reading the sequence in FASTA file format\n",
        "dna_record = SeqIO.read(\"sequence.fasta\", \"fasta\")"
      ],
      "metadata": {
        "id": "d2C98Jh7-GoU"
      },
      "execution_count": 19,
      "outputs": []
    },
    {
      "cell_type": "code",
      "source": [
        "dna_seq = dna_record.seq"
      ],
      "metadata": {
        "id": "2yt2CLIh-Gl0"
      },
      "execution_count": 20,
      "outputs": []
    },
    {
      "cell_type": "code",
      "source": [
        "print(dna_seq)"
      ],
      "metadata": {
        "colab": {
          "base_uri": "https://localhost:8080/"
        },
        "id": "DJQakPz0-GjL",
        "outputId": "15279e9e-fe81-46e1-e791-f3ae6212957e"
      },
      "execution_count": 21,
      "outputs": [
        {
          "output_type": "stream",
          "name": "stdout",
          "text": [
            "MRKDLSPVLEMYLLRVCVQGVAQKPVKALQKLQHSLTAAALYALQKKTAVVAPAAPLAAA\n"
          ]
        }
      ]
    },
    {
      "cell_type": "markdown",
      "source": [],
      "metadata": {
        "id": "6-Df01_dDGAY"
      }
    },
    {
      "cell_type": "code",
      "source": [
        "from Bio.Seq import Seq\n",
        "from Bio.SeqRecord import SeqRecord\n",
        "from Bio import SeqIO\n",
        "\n",
        "sequence = \"MRKDLSPVLEMYLLRVCVQGVAQKPVKALQKLQHSLTAAALYALQKKTAVVAPAAPLAAA\"\n",
        "\n",
        "record = SeqRecord(Seq(sequence), id=\"sequence1\")\n",
        "records = [record]\n",
        "\n",
        "# Menyimpan sebagai file FASTA\n",
        "SeqIO.write(records, \"seqs.fa\", \"fasta\")"
      ],
      "metadata": {
        "colab": {
          "base_uri": "https://localhost:8080/"
        },
        "id": "AbIgiZOOEyCA",
        "outputId": "2be01b20-1e81-4df0-953c-6f8ec897ada5"
      },
      "execution_count": 25,
      "outputs": [
        {
          "output_type": "execute_result",
          "data": {
            "text/plain": [
              "1"
            ]
          },
          "metadata": {},
          "execution_count": 25
        }
      ]
    },
    {
      "cell_type": "code",
      "source": [
        "for record in SeqIO.parse(\"sequence.gb\", \"genbank\"):\n",
        "    print(record)\n",
        "\n",
        "gb_dna_record = SeqIO.read(\"sequence.gb\", \"gb\")\n",
        "\n",
        "\n",
        "record_dict = SeqIO.to_dict(SeqIO.parse('seqs.fa', 'fasta'))\n",
        "with open('output_fasta.fa', 'w') as handle:\n",
        "    SeqIO.write(record_dict.values(), handle, 'fasta')"
      ],
      "metadata": {
        "colab": {
          "base_uri": "https://localhost:8080/",
          "height": 395
        },
        "id": "fiXVY3WP-GgW",
        "outputId": "eb719769-0e9d-4a99-d281-cf144c5f808b"
      },
      "execution_count": 26,
      "outputs": [
        {
          "output_type": "error",
          "ename": "FileNotFoundError",
          "evalue": "ignored",
          "traceback": [
            "\u001b[0;31m---------------------------------------------------------------------------\u001b[0m",
            "\u001b[0;31mFileNotFoundError\u001b[0m                         Traceback (most recent call last)",
            "\u001b[0;32m<ipython-input-26-f19bedab81e9>\u001b[0m in \u001b[0;36m<cell line: 1>\u001b[0;34m()\u001b[0m\n\u001b[0;32m----> 1\u001b[0;31m \u001b[0;32mfor\u001b[0m \u001b[0mrecord\u001b[0m \u001b[0;32min\u001b[0m \u001b[0mSeqIO\u001b[0m\u001b[0;34m.\u001b[0m\u001b[0mparse\u001b[0m\u001b[0;34m(\u001b[0m\u001b[0;34m\"sequence.gb\"\u001b[0m\u001b[0;34m,\u001b[0m \u001b[0;34m\"genbank\"\u001b[0m\u001b[0;34m)\u001b[0m\u001b[0;34m:\u001b[0m\u001b[0;34m\u001b[0m\u001b[0;34m\u001b[0m\u001b[0m\n\u001b[0m\u001b[1;32m      2\u001b[0m     \u001b[0mprint\u001b[0m\u001b[0;34m(\u001b[0m\u001b[0mrecord\u001b[0m\u001b[0;34m)\u001b[0m\u001b[0;34m\u001b[0m\u001b[0;34m\u001b[0m\u001b[0m\n\u001b[1;32m      3\u001b[0m \u001b[0;34m\u001b[0m\u001b[0m\n\u001b[1;32m      4\u001b[0m \u001b[0mgb_dna_record\u001b[0m \u001b[0;34m=\u001b[0m \u001b[0mSeqIO\u001b[0m\u001b[0;34m.\u001b[0m\u001b[0mread\u001b[0m\u001b[0;34m(\u001b[0m\u001b[0;34m\"sequence.gb\"\u001b[0m\u001b[0;34m,\u001b[0m \u001b[0;34m\"gb\"\u001b[0m\u001b[0;34m)\u001b[0m\u001b[0;34m\u001b[0m\u001b[0;34m\u001b[0m\u001b[0m\n\u001b[1;32m      5\u001b[0m \u001b[0;34m\u001b[0m\u001b[0m\n",
            "\u001b[0;32m/usr/local/lib/python3.10/dist-packages/Bio/SeqIO/__init__.py\u001b[0m in \u001b[0;36mparse\u001b[0;34m(handle, format, alphabet)\u001b[0m\n\u001b[1;32m    603\u001b[0m     \u001b[0miterator_generator\u001b[0m \u001b[0;34m=\u001b[0m \u001b[0m_FormatToIterator\u001b[0m\u001b[0;34m.\u001b[0m\u001b[0mget\u001b[0m\u001b[0;34m(\u001b[0m\u001b[0mformat\u001b[0m\u001b[0;34m)\u001b[0m\u001b[0;34m\u001b[0m\u001b[0;34m\u001b[0m\u001b[0m\n\u001b[1;32m    604\u001b[0m     \u001b[0;32mif\u001b[0m \u001b[0miterator_generator\u001b[0m\u001b[0;34m:\u001b[0m\u001b[0;34m\u001b[0m\u001b[0;34m\u001b[0m\u001b[0m\n\u001b[0;32m--> 605\u001b[0;31m         \u001b[0;32mreturn\u001b[0m \u001b[0miterator_generator\u001b[0m\u001b[0;34m(\u001b[0m\u001b[0mhandle\u001b[0m\u001b[0;34m)\u001b[0m\u001b[0;34m\u001b[0m\u001b[0;34m\u001b[0m\u001b[0m\n\u001b[0m\u001b[1;32m    606\u001b[0m     \u001b[0;32mif\u001b[0m \u001b[0mformat\u001b[0m \u001b[0;32min\u001b[0m \u001b[0mAlignIO\u001b[0m\u001b[0;34m.\u001b[0m\u001b[0m_FormatToIterator\u001b[0m\u001b[0;34m:\u001b[0m\u001b[0;34m\u001b[0m\u001b[0;34m\u001b[0m\u001b[0m\n\u001b[1;32m    607\u001b[0m         \u001b[0;31m# Use Bio.AlignIO to read in the alignments\u001b[0m\u001b[0;34m\u001b[0m\u001b[0;34m\u001b[0m\u001b[0m\n",
            "\u001b[0;32m/usr/local/lib/python3.10/dist-packages/Bio/SeqIO/InsdcIO.py\u001b[0m in \u001b[0;36m__init__\u001b[0;34m(self, source)\u001b[0m\n\u001b[1;32m     95\u001b[0m \u001b[0;34m\u001b[0m\u001b[0m\n\u001b[1;32m     96\u001b[0m         \"\"\"\n\u001b[0;32m---> 97\u001b[0;31m         \u001b[0msuper\u001b[0m\u001b[0;34m(\u001b[0m\u001b[0;34m)\u001b[0m\u001b[0;34m.\u001b[0m\u001b[0m__init__\u001b[0m\u001b[0;34m(\u001b[0m\u001b[0msource\u001b[0m\u001b[0;34m,\u001b[0m \u001b[0mmode\u001b[0m\u001b[0;34m=\u001b[0m\u001b[0;34m\"t\"\u001b[0m\u001b[0;34m,\u001b[0m \u001b[0mfmt\u001b[0m\u001b[0;34m=\u001b[0m\u001b[0;34m\"GenBank\"\u001b[0m\u001b[0;34m)\u001b[0m\u001b[0;34m\u001b[0m\u001b[0;34m\u001b[0m\u001b[0m\n\u001b[0m\u001b[1;32m     98\u001b[0m \u001b[0;34m\u001b[0m\u001b[0m\n\u001b[1;32m     99\u001b[0m     \u001b[0;32mdef\u001b[0m \u001b[0mparse\u001b[0m\u001b[0;34m(\u001b[0m\u001b[0mself\u001b[0m\u001b[0;34m,\u001b[0m \u001b[0mhandle\u001b[0m\u001b[0;34m)\u001b[0m\u001b[0;34m:\u001b[0m\u001b[0;34m\u001b[0m\u001b[0;34m\u001b[0m\u001b[0m\n",
            "\u001b[0;32m/usr/local/lib/python3.10/dist-packages/Bio/SeqIO/Interfaces.py\u001b[0m in \u001b[0;36m__init__\u001b[0;34m(self, source, alphabet, mode, fmt)\u001b[0m\n\u001b[1;32m     43\u001b[0m             \u001b[0;32mraise\u001b[0m \u001b[0mValueError\u001b[0m\u001b[0;34m(\u001b[0m\u001b[0;34m\"The alphabet argument is no longer supported\"\u001b[0m\u001b[0;34m)\u001b[0m\u001b[0;34m\u001b[0m\u001b[0;34m\u001b[0m\u001b[0m\n\u001b[1;32m     44\u001b[0m         \u001b[0;32mtry\u001b[0m\u001b[0;34m:\u001b[0m\u001b[0;34m\u001b[0m\u001b[0;34m\u001b[0m\u001b[0m\n\u001b[0;32m---> 45\u001b[0;31m             \u001b[0mself\u001b[0m\u001b[0;34m.\u001b[0m\u001b[0mstream\u001b[0m \u001b[0;34m=\u001b[0m \u001b[0mopen\u001b[0m\u001b[0;34m(\u001b[0m\u001b[0msource\u001b[0m\u001b[0;34m,\u001b[0m \u001b[0;34m\"r\"\u001b[0m \u001b[0;34m+\u001b[0m \u001b[0mmode\u001b[0m\u001b[0;34m)\u001b[0m\u001b[0;34m\u001b[0m\u001b[0;34m\u001b[0m\u001b[0m\n\u001b[0m\u001b[1;32m     46\u001b[0m             \u001b[0mself\u001b[0m\u001b[0;34m.\u001b[0m\u001b[0mshould_close_stream\u001b[0m \u001b[0;34m=\u001b[0m \u001b[0;32mTrue\u001b[0m\u001b[0;34m\u001b[0m\u001b[0;34m\u001b[0m\u001b[0m\n\u001b[1;32m     47\u001b[0m         \u001b[0;32mexcept\u001b[0m \u001b[0mTypeError\u001b[0m\u001b[0;34m:\u001b[0m  \u001b[0;31m# not a path, assume we received a stream\u001b[0m\u001b[0;34m\u001b[0m\u001b[0;34m\u001b[0m\u001b[0m\n",
            "\u001b[0;31mFileNotFoundError\u001b[0m: [Errno 2] No such file or directory: 'sequence.gb'"
          ]
        }
      ]
    },
    {
      "cell_type": "code",
      "source": [
        "from Bio.Seq import Seq\n",
        "from Bio import SeqIO\n",
        "import pandas as pd\n",
        "\n",
        "# Reading our fasta file\n",
        "seq_test = SeqIO.read(\"sequence.fasta\", \"fasta\")\n",
        "dna_seq = seq_test.seq\n",
        "\n",
        "# Transcription: DNA to mRNA and Translation: mRNA to Protein\n",
        "protein_test = dna_seq.transcribe().translate()\n",
        "protein_test_clean = str(protein_test).split(\"*\")\n",
        "protein_test_clean = [str(i) for i in protein_test_clean]\n",
        "\n",
        "# Data Frame\n",
        "df = pd.DataFrame({\"amino_acids\": protein_test_clean})\n",
        "df['count'] = df['amino_acids'].str.len()\n",
        "\n",
        "print(df.head())\n",
        "print(df.nlargest(10, 'count'))\n"
      ],
      "metadata": {
        "colab": {
          "base_uri": "https://localhost:8080/",
          "height": 395
        },
        "id": "DGOIyguPB0h0",
        "outputId": "4b52869d-27cf-4fea-e5e4-72e01b0499d7"
      },
      "execution_count": 29,
      "outputs": [
        {
          "output_type": "error",
          "ename": "TranslationError",
          "evalue": "ignored",
          "traceback": [
            "\u001b[0;31m---------------------------------------------------------------------------\u001b[0m",
            "\u001b[0;31mTranslationError\u001b[0m                          Traceback (most recent call last)",
            "\u001b[0;32m<ipython-input-29-d3b345155854>\u001b[0m in \u001b[0;36m<cell line: 10>\u001b[0;34m()\u001b[0m\n\u001b[1;32m      8\u001b[0m \u001b[0;34m\u001b[0m\u001b[0m\n\u001b[1;32m      9\u001b[0m \u001b[0;31m# Transcription: DNA to mRNA and Translation: mRNA to Protein\u001b[0m\u001b[0;34m\u001b[0m\u001b[0;34m\u001b[0m\u001b[0m\n\u001b[0;32m---> 10\u001b[0;31m \u001b[0mprotein_test\u001b[0m \u001b[0;34m=\u001b[0m \u001b[0mdna_seq\u001b[0m\u001b[0;34m.\u001b[0m\u001b[0mtranscribe\u001b[0m\u001b[0;34m(\u001b[0m\u001b[0;34m)\u001b[0m\u001b[0;34m.\u001b[0m\u001b[0mtranslate\u001b[0m\u001b[0;34m(\u001b[0m\u001b[0;34m)\u001b[0m\u001b[0;34m\u001b[0m\u001b[0;34m\u001b[0m\u001b[0m\n\u001b[0m\u001b[1;32m     11\u001b[0m \u001b[0mprotein_test_clean\u001b[0m \u001b[0;34m=\u001b[0m \u001b[0mstr\u001b[0m\u001b[0;34m(\u001b[0m\u001b[0mprotein_test\u001b[0m\u001b[0;34m)\u001b[0m\u001b[0;34m.\u001b[0m\u001b[0msplit\u001b[0m\u001b[0;34m(\u001b[0m\u001b[0;34m\"*\"\u001b[0m\u001b[0;34m)\u001b[0m\u001b[0;34m\u001b[0m\u001b[0;34m\u001b[0m\u001b[0m\n\u001b[1;32m     12\u001b[0m \u001b[0mprotein_test_clean\u001b[0m \u001b[0;34m=\u001b[0m \u001b[0;34m[\u001b[0m\u001b[0mstr\u001b[0m\u001b[0;34m(\u001b[0m\u001b[0mi\u001b[0m\u001b[0;34m)\u001b[0m \u001b[0;32mfor\u001b[0m \u001b[0mi\u001b[0m \u001b[0;32min\u001b[0m \u001b[0mprotein_test_clean\u001b[0m\u001b[0;34m]\u001b[0m\u001b[0;34m\u001b[0m\u001b[0;34m\u001b[0m\u001b[0m\n",
            "\u001b[0;32m/usr/local/lib/python3.10/dist-packages/Bio/Seq.py\u001b[0m in \u001b[0;36mtranslate\u001b[0;34m(self, table, stop_symbol, to_stop, cds, gap)\u001b[0m\n\u001b[1;32m   1446\u001b[0m \u001b[0;34m\u001b[0m\u001b[0m\n\u001b[1;32m   1447\u001b[0m         return self.__class__(\n\u001b[0;32m-> 1448\u001b[0;31m             \u001b[0m_translate_str\u001b[0m\u001b[0;34m(\u001b[0m\u001b[0mstr\u001b[0m\u001b[0;34m(\u001b[0m\u001b[0mself\u001b[0m\u001b[0;34m)\u001b[0m\u001b[0;34m,\u001b[0m \u001b[0mtable\u001b[0m\u001b[0;34m,\u001b[0m \u001b[0mstop_symbol\u001b[0m\u001b[0;34m,\u001b[0m \u001b[0mto_stop\u001b[0m\u001b[0;34m,\u001b[0m \u001b[0mcds\u001b[0m\u001b[0;34m,\u001b[0m \u001b[0mgap\u001b[0m\u001b[0;34m=\u001b[0m\u001b[0mgap\u001b[0m\u001b[0;34m)\u001b[0m\u001b[0;34m\u001b[0m\u001b[0;34m\u001b[0m\u001b[0m\n\u001b[0m\u001b[1;32m   1449\u001b[0m         )\n\u001b[1;32m   1450\u001b[0m \u001b[0;34m\u001b[0m\u001b[0m\n",
            "\u001b[0;32m/usr/local/lib/python3.10/dist-packages/Bio/Seq.py\u001b[0m in \u001b[0;36m_translate_str\u001b[0;34m(sequence, table, stop_symbol, to_stop, cds, pos_stop, gap)\u001b[0m\n\u001b[1;32m   2834\u001b[0m                 \u001b[0mamino_acids\u001b[0m\u001b[0;34m.\u001b[0m\u001b[0mappend\u001b[0m\u001b[0;34m(\u001b[0m\u001b[0mgap\u001b[0m\u001b[0;34m)\u001b[0m\u001b[0;34m\u001b[0m\u001b[0;34m\u001b[0m\u001b[0m\n\u001b[1;32m   2835\u001b[0m             \u001b[0;32melse\u001b[0m\u001b[0;34m:\u001b[0m\u001b[0;34m\u001b[0m\u001b[0;34m\u001b[0m\u001b[0m\n\u001b[0;32m-> 2836\u001b[0;31m                 raise CodonTable.TranslationError(\n\u001b[0m\u001b[1;32m   2837\u001b[0m                     \u001b[0;34mf\"Codon '{codon}' is invalid\"\u001b[0m\u001b[0;34m\u001b[0m\u001b[0;34m\u001b[0m\u001b[0m\n\u001b[1;32m   2838\u001b[0m                 ) from None\n",
            "\u001b[0;31mTranslationError\u001b[0m: Codon 'DLS' is invalid"
          ]
        }
      ]
    },
    {
      "cell_type": "code",
      "source": [
        "# a) Membaca file FASTA dan mendapatkan sekuens protein dari file tersebut\n",
        "def read_fasta(protein_test):\n",
        "    sequence = \"\"\n",
        "    with open(protein_test, \"r\") as file:\n",
        "        for line in file:\n",
        "            if not line.startswith(\">\"):\n",
        "                sequence += line.strip()\n",
        "    return sequence\n",
        "\n",
        "protein_test = \"sequence.fasta\"  # Ubah dengan path file FASTA yang sesuai\n",
        "protein_sequence = read_fasta(protein_test)\n",
        "\n",
        "# b) Analisis komposisi asam amino pada sekuens protein\n",
        "def calculate_amino_acid_composition(sequence):\n",
        "    composition = {}\n",
        "    for amino_acid in sequence:\n",
        "        if amino_acid in composition:\n",
        "            composition[amino_acid] += 1\n",
        "        else:\n",
        "            composition[amino_acid] = 1\n",
        "    return composition\n",
        "\n",
        "amino_acid_composition = calculate_amino_acid_composition(protein_sequence)\n",
        "\n",
        "# c) Menampilkan hasil analisis komposisi asam amino\n",
        "print(\"Analisis Komposisi Asam Amino:\")\n",
        "for amino_acid, frequency in amino_acid_composition.items():\n",
        "    print(f\"{amino_acid}: {frequency}\")\n"
      ],
      "metadata": {
        "colab": {
          "base_uri": "https://localhost:8080/"
        },
        "id": "ZrttB0LH-Gdc",
        "outputId": "2335ba74-428b-48f2-d3b9-a6bb5ddabb8f"
      },
      "execution_count": 32,
      "outputs": [
        {
          "output_type": "stream",
          "name": "stdout",
          "text": [
            "Analisis Komposisi Asam Amino:\n",
            "M: 2\n",
            "R: 2\n",
            "K: 6\n",
            "D: 1\n",
            "L: 10\n",
            "S: 2\n",
            "P: 4\n",
            "V: 7\n",
            "E: 1\n",
            "Y: 2\n",
            "C: 1\n",
            "Q: 5\n",
            "G: 1\n",
            "A: 13\n",
            "H: 1\n",
            "T: 2\n"
          ]
        }
      ]
    },
    {
      "cell_type": "markdown",
      "source": [
        "nomor 2\n"
      ],
      "metadata": {
        "id": "6heZZWpDDfrs"
      }
    },
    {
      "cell_type": "code",
      "source": [],
      "metadata": {
        "id": "J33Zlfkd-GHv"
      },
      "execution_count": null,
      "outputs": []
    }
  ]
}